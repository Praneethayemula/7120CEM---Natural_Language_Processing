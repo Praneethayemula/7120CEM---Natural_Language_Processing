{
 "cells": [
  {
   "cell_type": "markdown",
   "metadata": {
    "_cell_guid": "02034a55-aa87-44cc-b3d3-b37fa7d1dc33",
    "_uuid": "01613113e137f697d47ca7c4dcf4b02b39ad155c"
   },
   "source": [
    "## Exploratory Data Analysis: Mental Health in Tech Survey (2014)\n",
    "\n",
    "\n",
    "### Step 1: Load the data and packages"
   ]
  },
  {
   "cell_type": "code",
   "execution_count": 1,
   "metadata": {
    "_cell_guid": "87c98308-2f60-47b0-8007-777feadea29e",
    "_kg_hide-input": false,
    "_kg_hide-output": false,
    "_uuid": "7358d222da406e9bb090d83c4ef0b1f01bcab83d"
   },
   "outputs": [],
   "source": [
    "# Import packages\n",
    "import sys\n",
    "import pandas as pd\n",
    "import seaborn as sns\n",
    "import numpy as np\n",
    "import matplotlib.pyplot as plt\n",
    "from matplotlib.pyplot import pie, axis, show\n",
    "\n",
    "# Display plots inline in the notebook\n",
    "%matplotlib inline \n",
    "\n",
    "\n",
    "import warnings\n",
    "warnings.filterwarnings('ignore') \n",
    "\n",
    "# Display all dataframe columns in outputs (it has 27 columns, which is wider than the notebook)\n",
    "# This sets it up to dispaly with a horizontal scroll instead of hiding the middle columns\n",
    "pd.set_option('display.max_columns', 100) \n",
    "\n",
    "# Load in the dataset as mh\n",
    "survey = pd.read_csv(\"D:/project/micro_tree/uk/mental-dataset/survey.csv\")"
   ]
  },
  {
   "cell_type": "markdown",
   "metadata": {
    "_cell_guid": "bcf14f2c-a2d0-46c7-ac21-0616cac0624d",
    "_uuid": "1364017f0b2e4c92840482382b4d7fbdfb5d51f1"
   },
   "source": [
    "<a id=\"step3\"></a> \n",
    "### Inspect the data to begin to understand it "
   ]
  },
  {
   "cell_type": "code",
   "execution_count": 2,
   "metadata": {
    "_cell_guid": "2cbcb1ea-b2af-45c9-8fce-4b00c213dab1",
    "_uuid": "9b429eb8b0d07d1bbd0bb8a1d135a430bed53491",
    "scrolled": true
   },
   "outputs": [
    {
     "data": {
      "text/plain": [
       "Timestamp                    object\n",
       "Age                           int64\n",
       "Gender                       object\n",
       "Country                      object\n",
       "state                        object\n",
       "self_employed                object\n",
       "family_history               object\n",
       "treatment                    object\n",
       "work_interfere               object\n",
       "no_employees                 object\n",
       "remote_work                  object\n",
       "tech_company                 object\n",
       "benefits                     object\n",
       "care_options                 object\n",
       "wellness_program             object\n",
       "seek_help                    object\n",
       "anonymity                    object\n",
       "leave                        object\n",
       "mental_health_consequence    object\n",
       "phys_health_consequence      object\n",
       "coworkers                    object\n",
       "supervisor                   object\n",
       "mental_health_interview      object\n",
       "phys_health_interview        object\n",
       "mental_vs_physical           object\n",
       "obs_consequence              object\n",
       "comments                     object\n",
       "dtype: object"
      ]
     },
     "execution_count": 2,
     "metadata": {},
     "output_type": "execute_result"
    }
   ],
   "source": [
    "# Display the data type for each variable\n",
    "survey.dtypes"
   ]
  },
  {
   "cell_type": "code",
   "execution_count": 3,
   "metadata": {
    "_cell_guid": "15b014b4-7bce-4c7a-9a1a-2d917e94d27f",
    "_uuid": "4a9d3b2900adbd63975153afd6169e9451487530"
   },
   "outputs": [
    {
     "data": {
      "text/html": [
       "<div>\n",
       "<style scoped>\n",
       "    .dataframe tbody tr th:only-of-type {\n",
       "        vertical-align: middle;\n",
       "    }\n",
       "\n",
       "    .dataframe tbody tr th {\n",
       "        vertical-align: top;\n",
       "    }\n",
       "\n",
       "    .dataframe thead th {\n",
       "        text-align: right;\n",
       "    }\n",
       "</style>\n",
       "<table border=\"1\" class=\"dataframe\">\n",
       "  <thead>\n",
       "    <tr style=\"text-align: right;\">\n",
       "      <th></th>\n",
       "      <th>Timestamp</th>\n",
       "      <th>Age</th>\n",
       "      <th>Gender</th>\n",
       "      <th>Country</th>\n",
       "      <th>state</th>\n",
       "      <th>self_employed</th>\n",
       "      <th>family_history</th>\n",
       "      <th>treatment</th>\n",
       "      <th>work_interfere</th>\n",
       "      <th>no_employees</th>\n",
       "      <th>remote_work</th>\n",
       "      <th>tech_company</th>\n",
       "      <th>benefits</th>\n",
       "      <th>care_options</th>\n",
       "      <th>wellness_program</th>\n",
       "      <th>seek_help</th>\n",
       "      <th>anonymity</th>\n",
       "      <th>leave</th>\n",
       "      <th>mental_health_consequence</th>\n",
       "      <th>phys_health_consequence</th>\n",
       "      <th>coworkers</th>\n",
       "      <th>supervisor</th>\n",
       "      <th>mental_health_interview</th>\n",
       "      <th>phys_health_interview</th>\n",
       "      <th>mental_vs_physical</th>\n",
       "      <th>obs_consequence</th>\n",
       "      <th>comments</th>\n",
       "    </tr>\n",
       "  </thead>\n",
       "  <tbody>\n",
       "    <tr>\n",
       "      <th>0</th>\n",
       "      <td>2014-08-27 11:29:31</td>\n",
       "      <td>37</td>\n",
       "      <td>Female</td>\n",
       "      <td>United States</td>\n",
       "      <td>IL</td>\n",
       "      <td>NaN</td>\n",
       "      <td>No</td>\n",
       "      <td>Yes</td>\n",
       "      <td>Often</td>\n",
       "      <td>6-25</td>\n",
       "      <td>No</td>\n",
       "      <td>Yes</td>\n",
       "      <td>Yes</td>\n",
       "      <td>Not sure</td>\n",
       "      <td>No</td>\n",
       "      <td>Yes</td>\n",
       "      <td>Yes</td>\n",
       "      <td>Somewhat easy</td>\n",
       "      <td>No</td>\n",
       "      <td>No</td>\n",
       "      <td>Some of them</td>\n",
       "      <td>Yes</td>\n",
       "      <td>No</td>\n",
       "      <td>Maybe</td>\n",
       "      <td>Yes</td>\n",
       "      <td>No</td>\n",
       "      <td>NaN</td>\n",
       "    </tr>\n",
       "    <tr>\n",
       "      <th>1</th>\n",
       "      <td>2014-08-27 11:29:37</td>\n",
       "      <td>44</td>\n",
       "      <td>M</td>\n",
       "      <td>United States</td>\n",
       "      <td>IN</td>\n",
       "      <td>NaN</td>\n",
       "      <td>No</td>\n",
       "      <td>No</td>\n",
       "      <td>Rarely</td>\n",
       "      <td>More than 1000</td>\n",
       "      <td>No</td>\n",
       "      <td>No</td>\n",
       "      <td>Don't know</td>\n",
       "      <td>No</td>\n",
       "      <td>Don't know</td>\n",
       "      <td>Don't know</td>\n",
       "      <td>Don't know</td>\n",
       "      <td>Don't know</td>\n",
       "      <td>Maybe</td>\n",
       "      <td>No</td>\n",
       "      <td>No</td>\n",
       "      <td>No</td>\n",
       "      <td>No</td>\n",
       "      <td>No</td>\n",
       "      <td>Don't know</td>\n",
       "      <td>No</td>\n",
       "      <td>NaN</td>\n",
       "    </tr>\n",
       "    <tr>\n",
       "      <th>2</th>\n",
       "      <td>2014-08-27 11:29:44</td>\n",
       "      <td>32</td>\n",
       "      <td>Male</td>\n",
       "      <td>Canada</td>\n",
       "      <td>NaN</td>\n",
       "      <td>NaN</td>\n",
       "      <td>No</td>\n",
       "      <td>No</td>\n",
       "      <td>Rarely</td>\n",
       "      <td>6-25</td>\n",
       "      <td>No</td>\n",
       "      <td>Yes</td>\n",
       "      <td>No</td>\n",
       "      <td>No</td>\n",
       "      <td>No</td>\n",
       "      <td>No</td>\n",
       "      <td>Don't know</td>\n",
       "      <td>Somewhat difficult</td>\n",
       "      <td>No</td>\n",
       "      <td>No</td>\n",
       "      <td>Yes</td>\n",
       "      <td>Yes</td>\n",
       "      <td>Yes</td>\n",
       "      <td>Yes</td>\n",
       "      <td>No</td>\n",
       "      <td>No</td>\n",
       "      <td>NaN</td>\n",
       "    </tr>\n",
       "    <tr>\n",
       "      <th>3</th>\n",
       "      <td>2014-08-27 11:29:46</td>\n",
       "      <td>31</td>\n",
       "      <td>Male</td>\n",
       "      <td>United Kingdom</td>\n",
       "      <td>NaN</td>\n",
       "      <td>NaN</td>\n",
       "      <td>Yes</td>\n",
       "      <td>Yes</td>\n",
       "      <td>Often</td>\n",
       "      <td>26-100</td>\n",
       "      <td>No</td>\n",
       "      <td>Yes</td>\n",
       "      <td>No</td>\n",
       "      <td>Yes</td>\n",
       "      <td>No</td>\n",
       "      <td>No</td>\n",
       "      <td>No</td>\n",
       "      <td>Somewhat difficult</td>\n",
       "      <td>Yes</td>\n",
       "      <td>Yes</td>\n",
       "      <td>Some of them</td>\n",
       "      <td>No</td>\n",
       "      <td>Maybe</td>\n",
       "      <td>Maybe</td>\n",
       "      <td>No</td>\n",
       "      <td>Yes</td>\n",
       "      <td>NaN</td>\n",
       "    </tr>\n",
       "    <tr>\n",
       "      <th>4</th>\n",
       "      <td>2014-08-27 11:30:22</td>\n",
       "      <td>31</td>\n",
       "      <td>Male</td>\n",
       "      <td>United States</td>\n",
       "      <td>TX</td>\n",
       "      <td>NaN</td>\n",
       "      <td>No</td>\n",
       "      <td>No</td>\n",
       "      <td>Never</td>\n",
       "      <td>100-500</td>\n",
       "      <td>Yes</td>\n",
       "      <td>Yes</td>\n",
       "      <td>Yes</td>\n",
       "      <td>No</td>\n",
       "      <td>Don't know</td>\n",
       "      <td>Don't know</td>\n",
       "      <td>Don't know</td>\n",
       "      <td>Don't know</td>\n",
       "      <td>No</td>\n",
       "      <td>No</td>\n",
       "      <td>Some of them</td>\n",
       "      <td>Yes</td>\n",
       "      <td>Yes</td>\n",
       "      <td>Yes</td>\n",
       "      <td>Don't know</td>\n",
       "      <td>No</td>\n",
       "      <td>NaN</td>\n",
       "    </tr>\n",
       "  </tbody>\n",
       "</table>\n",
       "</div>"
      ],
      "text/plain": [
       "             Timestamp  Age  Gender         Country state self_employed  \\\n",
       "0  2014-08-27 11:29:31   37  Female   United States    IL           NaN   \n",
       "1  2014-08-27 11:29:37   44       M   United States    IN           NaN   \n",
       "2  2014-08-27 11:29:44   32    Male          Canada   NaN           NaN   \n",
       "3  2014-08-27 11:29:46   31    Male  United Kingdom   NaN           NaN   \n",
       "4  2014-08-27 11:30:22   31    Male   United States    TX           NaN   \n",
       "\n",
       "  family_history treatment work_interfere    no_employees remote_work  \\\n",
       "0             No       Yes          Often            6-25          No   \n",
       "1             No        No         Rarely  More than 1000          No   \n",
       "2             No        No         Rarely            6-25          No   \n",
       "3            Yes       Yes          Often          26-100          No   \n",
       "4             No        No          Never         100-500         Yes   \n",
       "\n",
       "  tech_company    benefits care_options wellness_program   seek_help  \\\n",
       "0          Yes         Yes     Not sure               No         Yes   \n",
       "1           No  Don't know           No       Don't know  Don't know   \n",
       "2          Yes          No           No               No          No   \n",
       "3          Yes          No          Yes               No          No   \n",
       "4          Yes         Yes           No       Don't know  Don't know   \n",
       "\n",
       "    anonymity               leave mental_health_consequence  \\\n",
       "0         Yes       Somewhat easy                        No   \n",
       "1  Don't know          Don't know                     Maybe   \n",
       "2  Don't know  Somewhat difficult                        No   \n",
       "3          No  Somewhat difficult                       Yes   \n",
       "4  Don't know          Don't know                        No   \n",
       "\n",
       "  phys_health_consequence     coworkers supervisor mental_health_interview  \\\n",
       "0                      No  Some of them        Yes                      No   \n",
       "1                      No            No         No                      No   \n",
       "2                      No           Yes        Yes                     Yes   \n",
       "3                     Yes  Some of them         No                   Maybe   \n",
       "4                      No  Some of them        Yes                     Yes   \n",
       "\n",
       "  phys_health_interview mental_vs_physical obs_consequence comments  \n",
       "0                 Maybe                Yes              No      NaN  \n",
       "1                    No         Don't know              No      NaN  \n",
       "2                   Yes                 No              No      NaN  \n",
       "3                 Maybe                 No             Yes      NaN  \n",
       "4                   Yes         Don't know              No      NaN  "
      ]
     },
     "execution_count": 3,
     "metadata": {},
     "output_type": "execute_result"
    }
   ],
   "source": [
    "# Display the first five rows of the data set\n",
    "survey.head()"
   ]
  },
  {
   "cell_type": "code",
   "execution_count": 4,
   "metadata": {
    "_cell_guid": "4c9ac9d4-de2c-42d0-957b-71e495ab20ad",
    "_uuid": "2360d33dfda9393bba6a01bf9eacc74662ebcd66",
    "scrolled": true
   },
   "outputs": [
    {
     "data": {
      "text/html": [
       "<div>\n",
       "<style scoped>\n",
       "    .dataframe tbody tr th:only-of-type {\n",
       "        vertical-align: middle;\n",
       "    }\n",
       "\n",
       "    .dataframe tbody tr th {\n",
       "        vertical-align: top;\n",
       "    }\n",
       "\n",
       "    .dataframe thead th {\n",
       "        text-align: right;\n",
       "    }\n",
       "</style>\n",
       "<table border=\"1\" class=\"dataframe\">\n",
       "  <thead>\n",
       "    <tr style=\"text-align: right;\">\n",
       "      <th></th>\n",
       "      <th>Timestamp</th>\n",
       "      <th>Age</th>\n",
       "      <th>Gender</th>\n",
       "      <th>Country</th>\n",
       "      <th>state</th>\n",
       "      <th>self_employed</th>\n",
       "      <th>family_history</th>\n",
       "      <th>treatment</th>\n",
       "      <th>work_interfere</th>\n",
       "      <th>no_employees</th>\n",
       "      <th>remote_work</th>\n",
       "      <th>tech_company</th>\n",
       "      <th>benefits</th>\n",
       "      <th>care_options</th>\n",
       "      <th>wellness_program</th>\n",
       "      <th>seek_help</th>\n",
       "      <th>anonymity</th>\n",
       "      <th>leave</th>\n",
       "      <th>mental_health_consequence</th>\n",
       "      <th>phys_health_consequence</th>\n",
       "      <th>coworkers</th>\n",
       "      <th>supervisor</th>\n",
       "      <th>mental_health_interview</th>\n",
       "      <th>phys_health_interview</th>\n",
       "      <th>mental_vs_physical</th>\n",
       "      <th>obs_consequence</th>\n",
       "      <th>comments</th>\n",
       "    </tr>\n",
       "  </thead>\n",
       "  <tbody>\n",
       "    <tr>\n",
       "      <th>1037</th>\n",
       "      <td>2014-08-29 11:05:00</td>\n",
       "      <td>44</td>\n",
       "      <td>m</td>\n",
       "      <td>United States</td>\n",
       "      <td>MO</td>\n",
       "      <td>No</td>\n",
       "      <td>No</td>\n",
       "      <td>No</td>\n",
       "      <td>NaN</td>\n",
       "      <td>More than 1000</td>\n",
       "      <td>Yes</td>\n",
       "      <td>No</td>\n",
       "      <td>Don't know</td>\n",
       "      <td>No</td>\n",
       "      <td>Don't know</td>\n",
       "      <td>Don't know</td>\n",
       "      <td>Yes</td>\n",
       "      <td>Don't know</td>\n",
       "      <td>Yes</td>\n",
       "      <td>No</td>\n",
       "      <td>Some of them</td>\n",
       "      <td>No</td>\n",
       "      <td>No</td>\n",
       "      <td>No</td>\n",
       "      <td>No</td>\n",
       "      <td>No</td>\n",
       "      <td>NaN</td>\n",
       "    </tr>\n",
       "    <tr>\n",
       "      <th>1195</th>\n",
       "      <td>2015-02-21 04:23:05</td>\n",
       "      <td>34</td>\n",
       "      <td>female</td>\n",
       "      <td>Ireland</td>\n",
       "      <td>NaN</td>\n",
       "      <td>No</td>\n",
       "      <td>No</td>\n",
       "      <td>Yes</td>\n",
       "      <td>Sometimes</td>\n",
       "      <td>500-1000</td>\n",
       "      <td>No</td>\n",
       "      <td>No</td>\n",
       "      <td>Yes</td>\n",
       "      <td>Yes</td>\n",
       "      <td>Yes</td>\n",
       "      <td>No</td>\n",
       "      <td>Yes</td>\n",
       "      <td>Don't know</td>\n",
       "      <td>Yes</td>\n",
       "      <td>Yes</td>\n",
       "      <td>Some of them</td>\n",
       "      <td>Some of them</td>\n",
       "      <td>No</td>\n",
       "      <td>No</td>\n",
       "      <td>Yes</td>\n",
       "      <td>No</td>\n",
       "      <td>NaN</td>\n",
       "    </tr>\n",
       "    <tr>\n",
       "      <th>606</th>\n",
       "      <td>2014-08-27 23:10:16</td>\n",
       "      <td>50</td>\n",
       "      <td>Male</td>\n",
       "      <td>United States</td>\n",
       "      <td>WY</td>\n",
       "      <td>No</td>\n",
       "      <td>No</td>\n",
       "      <td>No</td>\n",
       "      <td>Sometimes</td>\n",
       "      <td>1-5</td>\n",
       "      <td>Yes</td>\n",
       "      <td>Yes</td>\n",
       "      <td>Don't know</td>\n",
       "      <td>No</td>\n",
       "      <td>No</td>\n",
       "      <td>Don't know</td>\n",
       "      <td>Don't know</td>\n",
       "      <td>Don't know</td>\n",
       "      <td>Yes</td>\n",
       "      <td>Maybe</td>\n",
       "      <td>Some of them</td>\n",
       "      <td>Some of them</td>\n",
       "      <td>No</td>\n",
       "      <td>Maybe</td>\n",
       "      <td>Don't know</td>\n",
       "      <td>No</td>\n",
       "      <td>I work for a very small firm that doesn't real...</td>\n",
       "    </tr>\n",
       "    <tr>\n",
       "      <th>751</th>\n",
       "      <td>2014-08-28 11:20:14</td>\n",
       "      <td>42</td>\n",
       "      <td>male</td>\n",
       "      <td>Germany</td>\n",
       "      <td>NaN</td>\n",
       "      <td>No</td>\n",
       "      <td>No</td>\n",
       "      <td>No</td>\n",
       "      <td>NaN</td>\n",
       "      <td>More than 1000</td>\n",
       "      <td>Yes</td>\n",
       "      <td>Yes</td>\n",
       "      <td>Don't know</td>\n",
       "      <td>Not sure</td>\n",
       "      <td>Yes</td>\n",
       "      <td>Yes</td>\n",
       "      <td>Yes</td>\n",
       "      <td>Very easy</td>\n",
       "      <td>No</td>\n",
       "      <td>No</td>\n",
       "      <td>Some of them</td>\n",
       "      <td>No</td>\n",
       "      <td>No</td>\n",
       "      <td>Maybe</td>\n",
       "      <td>Yes</td>\n",
       "      <td>No</td>\n",
       "      <td>NaN</td>\n",
       "    </tr>\n",
       "    <tr>\n",
       "      <th>985</th>\n",
       "      <td>2014-08-29 09:02:04</td>\n",
       "      <td>29</td>\n",
       "      <td>Male</td>\n",
       "      <td>United Kingdom</td>\n",
       "      <td>NaN</td>\n",
       "      <td>No</td>\n",
       "      <td>No</td>\n",
       "      <td>Yes</td>\n",
       "      <td>Sometimes</td>\n",
       "      <td>6-25</td>\n",
       "      <td>Yes</td>\n",
       "      <td>Yes</td>\n",
       "      <td>No</td>\n",
       "      <td>No</td>\n",
       "      <td>No</td>\n",
       "      <td>No</td>\n",
       "      <td>Don't know</td>\n",
       "      <td>Very easy</td>\n",
       "      <td>No</td>\n",
       "      <td>No</td>\n",
       "      <td>Yes</td>\n",
       "      <td>Yes</td>\n",
       "      <td>No</td>\n",
       "      <td>Yes</td>\n",
       "      <td>Yes</td>\n",
       "      <td>No</td>\n",
       "      <td>NaN</td>\n",
       "    </tr>\n",
       "    <tr>\n",
       "      <th>643</th>\n",
       "      <td>2014-08-28 03:36:10</td>\n",
       "      <td>57</td>\n",
       "      <td>Male</td>\n",
       "      <td>United States</td>\n",
       "      <td>CA</td>\n",
       "      <td>No</td>\n",
       "      <td>No</td>\n",
       "      <td>No</td>\n",
       "      <td>Never</td>\n",
       "      <td>26-100</td>\n",
       "      <td>No</td>\n",
       "      <td>Yes</td>\n",
       "      <td>Yes</td>\n",
       "      <td>Yes</td>\n",
       "      <td>No</td>\n",
       "      <td>Yes</td>\n",
       "      <td>Yes</td>\n",
       "      <td>Somewhat difficult</td>\n",
       "      <td>Yes</td>\n",
       "      <td>Maybe</td>\n",
       "      <td>No</td>\n",
       "      <td>No</td>\n",
       "      <td>No</td>\n",
       "      <td>Maybe</td>\n",
       "      <td>Don't know</td>\n",
       "      <td>Yes</td>\n",
       "      <td>NaN</td>\n",
       "    </tr>\n",
       "    <tr>\n",
       "      <th>1173</th>\n",
       "      <td>2014-09-13 07:52:27</td>\n",
       "      <td>23</td>\n",
       "      <td>Male</td>\n",
       "      <td>United Kingdom</td>\n",
       "      <td>NaN</td>\n",
       "      <td>No</td>\n",
       "      <td>No</td>\n",
       "      <td>Yes</td>\n",
       "      <td>Sometimes</td>\n",
       "      <td>1-5</td>\n",
       "      <td>No</td>\n",
       "      <td>Yes</td>\n",
       "      <td>No</td>\n",
       "      <td>No</td>\n",
       "      <td>No</td>\n",
       "      <td>No</td>\n",
       "      <td>Don't know</td>\n",
       "      <td>Very difficult</td>\n",
       "      <td>Maybe</td>\n",
       "      <td>No</td>\n",
       "      <td>Yes</td>\n",
       "      <td>Yes</td>\n",
       "      <td>Yes</td>\n",
       "      <td>Yes</td>\n",
       "      <td>No</td>\n",
       "      <td>Yes</td>\n",
       "      <td>I burnt out this year. I worked too much had t...</td>\n",
       "    </tr>\n",
       "    <tr>\n",
       "      <th>1204</th>\n",
       "      <td>2015-02-21 05:55:17</td>\n",
       "      <td>34</td>\n",
       "      <td>Male</td>\n",
       "      <td>Ireland</td>\n",
       "      <td>NaN</td>\n",
       "      <td>No</td>\n",
       "      <td>Yes</td>\n",
       "      <td>Yes</td>\n",
       "      <td>Never</td>\n",
       "      <td>1-5</td>\n",
       "      <td>Yes</td>\n",
       "      <td>Yes</td>\n",
       "      <td>No</td>\n",
       "      <td>No</td>\n",
       "      <td>No</td>\n",
       "      <td>No</td>\n",
       "      <td>Don't know</td>\n",
       "      <td>Don't know</td>\n",
       "      <td>Maybe</td>\n",
       "      <td>No</td>\n",
       "      <td>Some of them</td>\n",
       "      <td>Yes</td>\n",
       "      <td>No</td>\n",
       "      <td>No</td>\n",
       "      <td>Don't know</td>\n",
       "      <td>No</td>\n",
       "      <td>NaN</td>\n",
       "    </tr>\n",
       "    <tr>\n",
       "      <th>193</th>\n",
       "      <td>2014-08-27 12:54:11</td>\n",
       "      <td>35</td>\n",
       "      <td>Male</td>\n",
       "      <td>United States</td>\n",
       "      <td>CA</td>\n",
       "      <td>No</td>\n",
       "      <td>No</td>\n",
       "      <td>Yes</td>\n",
       "      <td>Rarely</td>\n",
       "      <td>6-25</td>\n",
       "      <td>No</td>\n",
       "      <td>Yes</td>\n",
       "      <td>No</td>\n",
       "      <td>No</td>\n",
       "      <td>No</td>\n",
       "      <td>No</td>\n",
       "      <td>Yes</td>\n",
       "      <td>Don't know</td>\n",
       "      <td>No</td>\n",
       "      <td>No</td>\n",
       "      <td>Some of them</td>\n",
       "      <td>Yes</td>\n",
       "      <td>No</td>\n",
       "      <td>No</td>\n",
       "      <td>Don't know</td>\n",
       "      <td>No</td>\n",
       "      <td>NaN</td>\n",
       "    </tr>\n",
       "    <tr>\n",
       "      <th>1068</th>\n",
       "      <td>2014-08-29 12:45:11</td>\n",
       "      <td>48</td>\n",
       "      <td>Male</td>\n",
       "      <td>United States</td>\n",
       "      <td>IN</td>\n",
       "      <td>No</td>\n",
       "      <td>No</td>\n",
       "      <td>No</td>\n",
       "      <td>Never</td>\n",
       "      <td>26-100</td>\n",
       "      <td>No</td>\n",
       "      <td>No</td>\n",
       "      <td>Yes</td>\n",
       "      <td>Yes</td>\n",
       "      <td>Yes</td>\n",
       "      <td>Yes</td>\n",
       "      <td>Yes</td>\n",
       "      <td>Don't know</td>\n",
       "      <td>Maybe</td>\n",
       "      <td>No</td>\n",
       "      <td>Some of them</td>\n",
       "      <td>Yes</td>\n",
       "      <td>No</td>\n",
       "      <td>Maybe</td>\n",
       "      <td>Don't know</td>\n",
       "      <td>No</td>\n",
       "      <td>NaN</td>\n",
       "    </tr>\n",
       "  </tbody>\n",
       "</table>\n",
       "</div>"
      ],
      "text/plain": [
       "                Timestamp  Age  Gender         Country state self_employed  \\\n",
       "1037  2014-08-29 11:05:00   44       m   United States    MO            No   \n",
       "1195  2015-02-21 04:23:05   34  female         Ireland   NaN            No   \n",
       "606   2014-08-27 23:10:16   50    Male   United States    WY            No   \n",
       "751   2014-08-28 11:20:14   42    male         Germany   NaN            No   \n",
       "985   2014-08-29 09:02:04   29    Male  United Kingdom   NaN            No   \n",
       "643   2014-08-28 03:36:10   57    Male   United States    CA            No   \n",
       "1173  2014-09-13 07:52:27   23    Male  United Kingdom   NaN            No   \n",
       "1204  2015-02-21 05:55:17   34    Male         Ireland   NaN            No   \n",
       "193   2014-08-27 12:54:11   35    Male   United States    CA            No   \n",
       "1068  2014-08-29 12:45:11   48    Male   United States    IN            No   \n",
       "\n",
       "     family_history treatment work_interfere    no_employees remote_work  \\\n",
       "1037             No        No            NaN  More than 1000         Yes   \n",
       "1195             No       Yes      Sometimes        500-1000          No   \n",
       "606              No        No      Sometimes             1-5         Yes   \n",
       "751              No        No            NaN  More than 1000         Yes   \n",
       "985              No       Yes      Sometimes            6-25         Yes   \n",
       "643              No        No          Never          26-100          No   \n",
       "1173             No       Yes      Sometimes             1-5          No   \n",
       "1204            Yes       Yes          Never             1-5         Yes   \n",
       "193              No       Yes         Rarely            6-25          No   \n",
       "1068             No        No          Never          26-100          No   \n",
       "\n",
       "     tech_company    benefits care_options wellness_program   seek_help  \\\n",
       "1037           No  Don't know           No       Don't know  Don't know   \n",
       "1195           No         Yes          Yes              Yes          No   \n",
       "606           Yes  Don't know           No               No  Don't know   \n",
       "751           Yes  Don't know     Not sure              Yes         Yes   \n",
       "985           Yes          No           No               No          No   \n",
       "643           Yes         Yes          Yes               No         Yes   \n",
       "1173          Yes          No           No               No          No   \n",
       "1204          Yes          No           No               No          No   \n",
       "193           Yes          No           No               No          No   \n",
       "1068           No         Yes          Yes              Yes         Yes   \n",
       "\n",
       "       anonymity               leave mental_health_consequence  \\\n",
       "1037         Yes          Don't know                       Yes   \n",
       "1195         Yes          Don't know                       Yes   \n",
       "606   Don't know          Don't know                       Yes   \n",
       "751          Yes           Very easy                        No   \n",
       "985   Don't know           Very easy                        No   \n",
       "643          Yes  Somewhat difficult                       Yes   \n",
       "1173  Don't know      Very difficult                     Maybe   \n",
       "1204  Don't know          Don't know                     Maybe   \n",
       "193          Yes          Don't know                        No   \n",
       "1068         Yes          Don't know                     Maybe   \n",
       "\n",
       "     phys_health_consequence     coworkers    supervisor  \\\n",
       "1037                      No  Some of them            No   \n",
       "1195                     Yes  Some of them  Some of them   \n",
       "606                    Maybe  Some of them  Some of them   \n",
       "751                       No  Some of them            No   \n",
       "985                       No           Yes           Yes   \n",
       "643                    Maybe            No            No   \n",
       "1173                      No           Yes           Yes   \n",
       "1204                      No  Some of them           Yes   \n",
       "193                       No  Some of them           Yes   \n",
       "1068                      No  Some of them           Yes   \n",
       "\n",
       "     mental_health_interview phys_health_interview mental_vs_physical  \\\n",
       "1037                      No                    No                 No   \n",
       "1195                      No                    No                Yes   \n",
       "606                       No                 Maybe         Don't know   \n",
       "751                       No                 Maybe                Yes   \n",
       "985                       No                   Yes                Yes   \n",
       "643                       No                 Maybe         Don't know   \n",
       "1173                     Yes                   Yes                 No   \n",
       "1204                      No                    No         Don't know   \n",
       "193                       No                    No         Don't know   \n",
       "1068                      No                 Maybe         Don't know   \n",
       "\n",
       "     obs_consequence                                           comments  \n",
       "1037              No                                                NaN  \n",
       "1195              No                                                NaN  \n",
       "606               No  I work for a very small firm that doesn't real...  \n",
       "751               No                                                NaN  \n",
       "985               No                                                NaN  \n",
       "643              Yes                                                NaN  \n",
       "1173             Yes  I burnt out this year. I worked too much had t...  \n",
       "1204              No                                                NaN  \n",
       "193               No                                                NaN  \n",
       "1068              No                                                NaN  "
      ]
     },
     "execution_count": 4,
     "metadata": {},
     "output_type": "execute_result"
    }
   ],
   "source": [
    "# Display a random 10 rows from the data set\n",
    "survey.sample(10)"
   ]
  },
  {
   "cell_type": "markdown",
   "metadata": {
    "_cell_guid": "97bc7f0f-e6e0-43d0-afd3-552c384d85b8",
    "_uuid": "2b973e81559b4cd877756318c68811137e0ac6c2"
   },
   "source": [
    "#### Initial observations after running the code above:\n"
   ]
  },
  {
   "cell_type": "code",
   "execution_count": 5,
   "metadata": {
    "_cell_guid": "a19eb500-db4c-4918-a269-46a656624fa9",
    "_uuid": "4a28fefa960f73389540bbe02ffaee1028fbda67"
   },
   "outputs": [
    {
     "name": "stdout",
     "output_type": "stream",
     "text": [
      "'Age'\n",
      "Minimum value:  -1726\n",
      "Maximum value:  99999999999\n",
      "How many values are NaN?:  0\n"
     ]
    }
   ],
   "source": [
    "\n",
    "print(\"'Age'\")\n",
    "print(\"Minimum value: \", survey['Age'].min())\n",
    "print(\"Maximum value: \", survey[\"Age\"].max())\n",
    "print(\"How many values are NaN?: \", pd.isnull(survey['Age']).sum())"
   ]
  },
  {
   "cell_type": "code",
   "execution_count": 6,
   "metadata": {
    "_cell_guid": "82f59e8e-6339-47f5-a0da-ebe29136b2b7",
    "_uuid": "923f820cd342acc19fe31c2aa0761891aa127322",
    "scrolled": false
   },
   "outputs": [
    {
     "name": "stdout",
     "output_type": "stream",
     "text": [
      "Count of distinct responses for Gender: 49\n",
      "Distinct responses for Gender: {'F', 'Femake', 'Female (cis)', 'Trans-female', 'All', 'A little about you', 'Male-ish', 'Cis Male', 'Make', 'Enby', 'p', 'Male ', 'Woman', 'Female (trans)', 'ostensibly male, unsure what that really means', 'm', 'msle', 'fluid', 'maile', 'M', 'queer', 'Nah', 'cis male', 'Androgyne', 'male leaning androgynous', 'Man', 'Trans woman', 'Female', 'something kinda male?', 'queer/she/they', 'Mal', 'Male (CIS)', 'Guy (-ish) ^_^', 'Female ', 'Neuter', 'Cis Female', 'Malr', 'Male', 'Cis Man', 'female', 'woman', 'femail', 'non-binary', 'cis-female/femme', 'Agender', 'Mail', 'male', 'f', 'Genderqueer'}\n"
     ]
    }
   ],
   "source": [
    "\n",
    "print(\"Count of distinct responses for Gender:\", len(set(survey['Gender'])))\n",
    "print(\"Distinct responses for Gender:\", set(survey['Gender']))"
   ]
  },
  {
   "cell_type": "code",
   "execution_count": 7,
   "metadata": {
    "_cell_guid": "0229f0d5-4eac-46a8-b1ff-647591a2484c",
    "_uuid": "984c7ecac94372f69ff32da1010f509ec6c7367a",
    "scrolled": false
   },
   "outputs": [
    {
     "data": {
      "text/plain": [
       "timestamp                    object\n",
       "age                           int64\n",
       "gender                       object\n",
       "country                      object\n",
       "state                        object\n",
       "self_employed                object\n",
       "family_history               object\n",
       "treatment                    object\n",
       "work_interfere               object\n",
       "no_employees                 object\n",
       "remote_work                  object\n",
       "tech_company                 object\n",
       "benefits                     object\n",
       "care_options                 object\n",
       "wellness_program             object\n",
       "seek_help                    object\n",
       "anonymity                    object\n",
       "leave                        object\n",
       "mental_health_consequence    object\n",
       "phys_health_consequence      object\n",
       "coworkers                    object\n",
       "supervisor                   object\n",
       "mental_health_interview      object\n",
       "phys_health_interview        object\n",
       "mental_vs_physical           object\n",
       "obs_consequence              object\n",
       "comments                     object\n",
       "dtype: object"
      ]
     },
     "execution_count": 7,
     "metadata": {},
     "output_type": "execute_result"
    }
   ],
   "source": [
    "survey.columns = map(str.lower, survey.columns)\n",
    "\n",
    "# Confirm that all variable names are now lower case\n",
    "survey.dtypes"
   ]
  },
  {
   "cell_type": "markdown",
   "metadata": {
    "_cell_guid": "99df77ab-3e99-4499-878d-61e663de7ea5",
    "_uuid": "5e00748653fdb8906fa9dd3d80b24e96aefbe854"
   },
   "source": [
    "#### 4B: Convert \"timestamp\" to datetime"
   ]
  },
  {
   "cell_type": "code",
   "execution_count": 8,
   "metadata": {
    "_cell_guid": "6d99e3db-9918-4b25-a9cf-31d0dc2b7f09",
    "_uuid": "eeae1c609a9507228ddd703f1b1dea25ac8064ff",
    "scrolled": true
   },
   "outputs": [
    {
     "data": {
      "text/plain": [
       "timestamp                    datetime64[ns]\n",
       "age                                   int64\n",
       "gender                               object\n",
       "country                              object\n",
       "state                                object\n",
       "self_employed                        object\n",
       "family_history                       object\n",
       "treatment                            object\n",
       "work_interfere                       object\n",
       "no_employees                         object\n",
       "remote_work                          object\n",
       "tech_company                         object\n",
       "benefits                             object\n",
       "care_options                         object\n",
       "wellness_program                     object\n",
       "seek_help                            object\n",
       "anonymity                            object\n",
       "leave                                object\n",
       "mental_health_consequence            object\n",
       "phys_health_consequence              object\n",
       "coworkers                            object\n",
       "supervisor                           object\n",
       "mental_health_interview              object\n",
       "phys_health_interview                object\n",
       "mental_vs_physical                   object\n",
       "obs_consequence                      object\n",
       "comments                             object\n",
       "dtype: object"
      ]
     },
     "execution_count": 8,
     "metadata": {},
     "output_type": "execute_result"
    }
   ],
   "source": [
    "# Convert \"timestamp\" data type from object to datetime\n",
    "survey['timestamp'] = pd.to_datetime(survey['timestamp'])\n",
    "\n",
    "# Confirm that it worked\n",
    "survey.dtypes"
   ]
  },
  {
   "cell_type": "code",
   "execution_count": 9,
   "metadata": {
    "_cell_guid": "b09ef7e5-6687-457f-a05c-e2e5094e9977",
    "_uuid": "deea27ed1214745c55a4952a5b0661d3b66aa265",
    "scrolled": true
   },
   "outputs": [
    {
     "name": "stdout",
     "output_type": "stream",
     "text": [
      "'Age'\n",
      "Minimum value:  5.0\n",
      "Maximum value:  72.0\n",
      "How many values are NaN?:  5\n",
      "Frequency table for age_clean:\n"
     ]
    },
    {
     "data": {
      "text/plain": [
       "5.0      1\n",
       "8.0      1\n",
       "11.0     1\n",
       "18.0     7\n",
       "19.0     9\n",
       "20.0     6\n",
       "21.0    16\n",
       "22.0    21\n",
       "23.0    51\n",
       "24.0    46\n",
       "25.0    61\n",
       "26.0    75\n",
       "27.0    71\n",
       "28.0    68\n",
       "29.0    85\n",
       "30.0    63\n",
       "31.0    67\n",
       "32.0    82\n",
       "33.0    70\n",
       "34.0    65\n",
       "35.0    55\n",
       "36.0    37\n",
       "37.0    43\n",
       "38.0    39\n",
       "39.0    33\n",
       "40.0    33\n",
       "41.0    21\n",
       "42.0    20\n",
       "43.0    28\n",
       "44.0    11\n",
       "45.0    12\n",
       "46.0    12\n",
       "47.0     2\n",
       "48.0     6\n",
       "49.0     4\n",
       "50.0     6\n",
       "51.0     5\n",
       "53.0     1\n",
       "54.0     3\n",
       "55.0     3\n",
       "56.0     4\n",
       "57.0     3\n",
       "58.0     1\n",
       "60.0     2\n",
       "61.0     1\n",
       "62.0     1\n",
       "65.0     1\n",
       "72.0     1\n",
       "Name: age_clean, dtype: int64"
      ]
     },
     "execution_count": 9,
     "metadata": {},
     "output_type": "execute_result"
    }
   ],
   "source": [
    "\n",
    "def clean_age(age):\n",
    "    if age>=0 and age<=123:\n",
    "        return age\n",
    "    else:\n",
    "        return np.nan\n",
    "survey['age_clean'] = survey['age'].apply(clean_age)\n",
    "\n",
    "# Check out the new column and make sure it looks right\n",
    "\n",
    "print(\"'Age'\")\n",
    "print(\"Minimum value: \", survey[\"age_clean\"].min())\n",
    "print(\"Maximum value: \", survey[\"age_clean\"].max())\n",
    "print(\"How many values are NaN?: \", pd.isnull(survey['age_clean']).sum())\n",
    "print(\"Frequency table for age_clean:\")\n",
    "survey[\"age_clean\"].value_counts().sort_index(0)"
   ]
  },
  {
   "cell_type": "markdown",
   "metadata": {
    "_cell_guid": "bc3355ad-ee17-4998-a39c-eb44e0a10212",
    "_uuid": "afad35eadfc46f289a34e827a7c329ffbc881404"
   },
   "source": [
    "#### View the age distribution of the sample\n",
    "\n"
   ]
  },
  {
   "cell_type": "code",
   "execution_count": 10,
   "metadata": {
    "_cell_guid": "00f89c92-45a4-481f-81f5-e9b495d70f09",
    "_uuid": "29a04e6dc5b8628d1c722f4d945e9acd064f20d8"
   },
   "outputs": [
    {
     "data": {
      "image/png": "[encoded data removed]",
      "text/plain": [
       "<Figure size 432x288 with 1 Axes>"
      ]
     },
     "metadata": {},
     "output_type": "display_data"
    }
   ],
   "source": [
    "# Plot a histogram of the respondents' ages (remove any NaN values)\n",
    "\n",
    "sns.set(color_codes=True)\n",
    "sns.set_palette(sns.color_palette(\"muted\"))\n",
    "\n",
    "sns.distplot(survey[\"age_clean\"].dropna());"
   ]
  },
  {
   "cell_type": "markdown",
   "metadata": {
    "_cell_guid": "88cf8b77-86e5-4234-9e2f-a807dfd43668",
    "_uuid": "1934cdc20c051802b8cb74eea3b52915e93dd810"
   },
   "source": [
    "#### 4D: Standardize gender into categories"
   ]
  },
  {
   "cell_type": "code",
   "execution_count": 11,
   "metadata": {
    "_cell_guid": "6066975f-ed70-41cf-887f-877e362a9560",
    "_uuid": "6e554909b44f99cd1bb65376421891d5ea13802c"
   },
   "outputs": [
    {
     "name": "stdout",
     "output_type": "stream",
     "text": [
      "Gender:\n",
      "How many values are NaN?:  0\n",
      "\n",
      "Frequency table for gender_new:\n",
      " Female (Cis)      247\n",
      "Female (Trans)      4\n",
      "Male (Cis)        991\n",
      "Other              15\n",
      "Name: gender_new, dtype: int64\n",
      "\n",
      "If we didn't miss any entries, these numbers will be the same:\n",
      "gender = 1257 values\n",
      "gender_new = 1257 values\n",
      "Dataset Entries = 1257 values\n"
     ]
    }
   ],
   "source": [
    "# Recategorize each response into these categories: Male (cis), Male (trans), Female (cis), Female (trans), Other\n",
    "\n",
    "# Standardize the capitalization in the responses by making all characters lower case\n",
    "survey['gender'] = survey['gender'].str.lower()\n",
    "\n",
    "# Make a copy of the column to preserve the original data. I will work with the new column going forward.\n",
    "survey['gender_new'] = survey['gender']\n",
    "\n",
    "# Assign each type of response to one of the five categories\n",
    "\n",
    "male = [\"male\", \"m\", \"male-ish\", \"maile\", \"mal\", \"male (cis)\", \"make\", \"male \", \"man\", \"msle\", \"mail\", \"malr\",\"cis man\", \"cis male\"]\n",
    "trans_male = [None]\n",
    "trans_female = [\"trans-female\",  \"trans woman\", \"female (trans)\"]\n",
    "female = [\"cis female\", \"f\", \"female\", \"woman\",  \"femake\", \"female \",\"cis-female/femme\", \"female (cis)\", \"femail\"]\n",
    "other = [\"non-binary\", \"nah\", \"all\", \"enby\", \"fluid\", \"genderqueer\", \"androgyne\", \"agender\", \"male leaning androgynous\", \"guy (-ish) ^_^\", \"neuter\", \"queer\", \"ostensibly male, unsure what that really means\", \"queer/she/they\", \"something kinda male?\"]\n",
    "\n",
    "survey['gender_new'] = survey['gender_new'].apply(lambda x:\"Male (Cis)\" if x in male else x)\n",
    "survey['gender_new'] = survey['gender_new'].apply(lambda x:\"Female (Cis)\" if x in female else x)\n",
    "survey['gender_new'] = survey['gender_new'].apply(lambda x:\"Female (Trans)\" if x in trans_female else x)\n",
    "survey['gender_new'] = survey['gender_new'].apply(lambda x:\"Male (Trans)\" if x in trans_male else x)\n",
    "survey['gender_new'] = survey['gender_new'].apply(lambda x:\"Other\" if x in other else x)\n",
    "survey.drop(survey[survey.gender_new == 'p'].index, inplace=True)\n",
    "survey.drop(survey[survey.gender_new == 'a little about you'].index, inplace=True)\n",
    "\n",
    "# Make a crosstab to view the count for each of the new categories\n",
    "print(\"Gender:\")\n",
    "print(\"How many values are NaN?: \", pd.isnull(survey['gender_new']).sum())\n",
    "print(\"\")\n",
    "print(\"Frequency table for gender_new:\\n\", survey[\"gender_new\"].value_counts().sort_index(0))\n",
    "print(\"\")\n",
    "\n",
    "# Confirm that no entries were missed in the sorting above: display the size of the old and new variables, and of the entire dataset\n",
    "print(\"If we didn't miss any entries, these numbers will be the same:\")\n",
    "print(\"gender =\", len(survey['gender']), \"values\")\n",
    "print(\"gender_new =\", len(survey['gender_new']), \"values\")\n",
    "print(\"Dataset Entries =\", len(survey), \"values\")"
   ]
  },
  {
   "cell_type": "markdown",
   "metadata": {
    "_cell_guid": "a45eb2cb-952f-485a-9717-4bcabf8bb8c1",
    "_uuid": "b208ba0755882246d535fc59bde6e10f9da8d0db"
   },
   "source": [
    "#### View the gender distribution of the sample"
   ]
  },
  {
   "cell_type": "code",
   "execution_count": 12,
   "metadata": {
    "_cell_guid": "03b36eeb-5de7-4254-9378-5d8801e086c8",
    "_uuid": "152b9cb4e1bfb72f569249971dd15268de7e075f"
   },
   "outputs": [
    {
     "data": {
      "text/plain": [
       "<AxesSubplot:>"
      ]
     },
     "execution_count": 12,
     "metadata": {},
     "output_type": "execute_result"
    },
    {
     "data": {
      "image/png": "[encoded data removed]",
      "text/plain": [
       "<Figure size 432x288 with 1 Axes>"
      ]
     },
     "metadata": {},
     "output_type": "display_data"
    }
   ],
   "source": [
    "# Create a bar chart comparing gender\n",
    "\n",
    "survey['gender_new'].value_counts().plot(kind='bar')"
   ]
  },
  {
   "cell_type": "markdown",
   "metadata": {
    "_cell_guid": "41e9f51b-525c-4fde-a134-18102b51d858",
    "_uuid": "045d0053fa2167d50553d877b0cfc1a6757bf767"
   },
   "source": [
    "treatment v. work_interfere"
   ]
  },
  {
   "cell_type": "code",
   "execution_count": 13,
   "metadata": {
    "_cell_guid": "18b869e6-9c95-46b5-bca1-30e6af9d0b9b",
    "_uuid": "3e541cc26d15d5f3a76d631d2ff7f2323d2506c1"
   },
   "outputs": [
    {
     "name": "stdout",
     "output_type": "stream",
     "text": [
      "Pearson:                 treatment  work_interfere\n",
      "treatment        1.000000        0.615657\n",
      "work_interfere   0.615657        1.000000\n",
      "\n",
      "Spearman:                 treatment  work_interfere\n",
      "treatment        1.000000        0.598444\n",
      "work_interfere   0.598444        1.000000\n",
      "\n",
      "Kendall:                 treatment  work_interfere\n",
      "treatment        1.000000        0.541358\n",
      "work_interfere   0.541358        1.000000\n"
     ]
    }
   ],
   "source": [
    "# Create a new dataframe with the two columns and assign numbers in place of their categories\n",
    "\n",
    "df = pd.DataFrame({'treatment': survey['treatment'], 'work_interfere': survey['work_interfere']}, dtype='category')\n",
    "df_num = df.apply(lambda x: x.cat.codes)\n",
    "\n",
    "# Run a correlation calculation \n",
    "print(\"Pearson:\", df_num.corr())\n",
    "print(\"\")\n",
    "print(\"Spearman:\", df_num.corr('spearman'))\n",
    "print(\"\")\n",
    "print(\"Kendall:\", df_num.corr('kendall'))"
   ]
  },
  {
   "cell_type": "markdown",
   "metadata": {
    "_cell_guid": "46323ae3-2ffb-4270-bf4d-7348a8fbcd7f",
    "_uuid": "29ed88e1c70ad9b8574285ba7b47b65e88fc8d68"
   },
   "source": [
    "mental health benefits v. seeking treatment"
   ]
  },
  {
   "cell_type": "code",
   "execution_count": 14,
   "metadata": {
    "_cell_guid": "1f0f6862-a4f9-4893-9f42-3615bf4c4438",
    "_uuid": "7ca81ba4b4ffd5202f9b07d6d3cb7bc87efc8241"
   },
   "outputs": [
    {
     "data": {
      "image/png": "[encoded data removed]",
      "text/plain": [
       "<Figure size 720x504 with 1 Axes>"
      ]
     },
     "metadata": {},
     "output_type": "display_data"
    }
   ],
   "source": [
    "plt.figure(figsize=(10,7))\n",
    "sns.countplot(x=\"benefits\", hue=\"treatment\", hue_order = [\"Yes\", \"No\"], data=survey)\n",
    "plt.title(\"Does your employer provide mental health benefits?\",fontsize=16)\n",
    "plt.suptitle(\"Seeking Treatment v. Work Benefits\", fontsize=20)\n",
    "plt.xlabel(\"\")\n",
    "plt.show()"
   ]
  },
  {
   "cell_type": "code",
   "execution_count": 15,
   "metadata": {
    "_cell_guid": "11457a05-74c8-48a5-8e03-3a41c78e0b85",
    "_uuid": "6d7fc1ca91a2981d65ed6e20644fe831dc81d5fc"
   },
   "outputs": [
    {
     "data": {
      "image/png": "[encoded data removed]",
      "text/plain": [
       "<Figure size 720x504 with 1 Axes>"
      ]
     },
     "metadata": {},
     "output_type": "display_data"
    }
   ],
   "source": [
    " # Generate a chart comparing mental health benefits and treatment\n",
    "    \n",
    "plt.figure(figsize=(10,7))\n",
    "sns.countplot(x=\"treatment\", hue=\"benefits\", hue_order = [\"Yes\", \"No\", \"Don't know\"], data=survey)\n",
    "plt.suptitle(\"Seeking Treatment v. Work Benefits  (Inverted)\", fontsize=20)\n",
    "plt.title(\"Have you sought treatment for a mental health condition?\",fontsize=16)\n",
    "plt.xlabel(\"\")\n",
    "plt.ylabel(\"\")\n",
    "plt.show()"
   ]
  },
  {
   "cell_type": "markdown",
   "metadata": {
    "_cell_guid": "069f4df2-a323-40a8-9407-9f4dfe1225cf",
    "_uuid": "fa616aa9c6cd281e74ebe7749b445a9f503121cf"
   },
   "source": [
    "#### 5C:  Chart: family history v. seeking treatment\n",
    "\n",
    "There appears to be a pretty clear correlation between these two variables, too."
   ]
  },
  {
   "cell_type": "code",
   "execution_count": 16,
   "metadata": {
    "_cell_guid": "943d53f0-35f4-4aa2-aa57-e2d0ab22a022",
    "_uuid": "b4d9ba8677e6151502d9903fc6c46de230dfd794"
   },
   "outputs": [
    {
     "data": {
      "image/png": "[encoded data removed]",
      "text/plain": [
       "<Figure size 720x504 with 1 Axes>"
      ]
     },
     "metadata": {},
     "output_type": "display_data"
    }
   ],
   "source": [
    "plt.figure(figsize=(10,7))\n",
    "sns.countplot(x=\"family_history\", hue=\"treatment\", hue_order = [\"Yes\", \"No\"], data=survey)\n",
    "plt.suptitle(\"Family History v. Seeking Treatment\", fontsize=20)\n",
    "plt.title(\"Do you have a family history of mental illness?\", fontsize=16)\n",
    "plt.xlabel(\"\")\n",
    "plt.ylabel(\"\")\n",
    "plt.show()"
   ]
  },
  {
   "cell_type": "code",
   "execution_count": 17,
   "metadata": {
    "_uuid": "3f01ed765813e43044ea7834e4fcbc2fff64b639",
    "scrolled": false
   },
   "outputs": [
    {
     "data": {
      "text/html": [
       "<div>\n",
       "<style scoped>\n",
       "    .dataframe tbody tr th:only-of-type {\n",
       "        vertical-align: middle;\n",
       "    }\n",
       "\n",
       "    .dataframe tbody tr th {\n",
       "        vertical-align: top;\n",
       "    }\n",
       "\n",
       "    .dataframe thead th {\n",
       "        text-align: right;\n",
       "    }\n",
       "</style>\n",
       "<table border=\"1\" class=\"dataframe\">\n",
       "  <thead>\n",
       "    <tr style=\"text-align: right;\">\n",
       "      <th></th>\n",
       "      <th>Treatment Yes</th>\n",
       "      <th>Treatment No</th>\n",
       "      <th>row_totals</th>\n",
       "    </tr>\n",
       "  </thead>\n",
       "  <tbody>\n",
       "    <tr>\n",
       "      <th>Fam Hist Yes</th>\n",
       "      <td>495</td>\n",
       "      <td>272</td>\n",
       "      <td>767</td>\n",
       "    </tr>\n",
       "    <tr>\n",
       "      <th>Fam Hist No</th>\n",
       "      <td>127</td>\n",
       "      <td>363</td>\n",
       "      <td>490</td>\n",
       "    </tr>\n",
       "    <tr>\n",
       "      <th>col_totals</th>\n",
       "      <td>622</td>\n",
       "      <td>635</td>\n",
       "      <td>1257</td>\n",
       "    </tr>\n",
       "  </tbody>\n",
       "</table>\n",
       "</div>"
      ],
      "text/plain": [
       "              Treatment Yes  Treatment No  row_totals\n",
       "Fam Hist Yes            495           272         767\n",
       "Fam Hist No             127           363         490\n",
       "col_totals              622           635        1257"
      ]
     },
     "execution_count": 17,
     "metadata": {},
     "output_type": "execute_result"
    }
   ],
   "source": [
    "# Generate crosstabs of \"family history\" and \"treatment\" (the \"observed\" values)\n",
    "\n",
    "import scipy.stats as stats\n",
    "\n",
    "tab_famhist_treatment = pd.crosstab(survey[\"family_history\"], survey[\"treatment\"], margins = True)\n",
    "tab_famhist_treatment.columns = [\"Treatment Yes\",\"Treatment No\",\"row_totals\"]\n",
    "tab_famhist_treatment.index = [\"Fam Hist Yes\",\"Fam Hist No\",\"col_totals\"]\n",
    "\n",
    "observed = tab_famhist_treatment.iloc[0:2,0:2]   # Get table without totals for later use\n",
    "\n",
    "tab_famhist_treatment"
   ]
  },
  {
   "cell_type": "code",
   "execution_count": 28,
   "metadata": {},
   "outputs": [
    {
     "name": "stdout",
     "output_type": "stream",
     "text": [
      "              Treatment Yes  Treatment No  row_totals\n",
      "Fam Hist Yes            495           272         767\n",
      "Fam Hist No             127           363         490\n",
      "col_totals              622           635        1257\n"
     ]
    }
   ],
   "source": [
    "print(tab_famhist_treatment)"
   ]
  },
  {
   "cell_type": "code",
   "execution_count": 18,
   "metadata": {
    "_uuid": "0ea0bdeda5064623bed606ae4b576f16851353d0"
   },
   "outputs": [
    {
     "data": {
      "text/html": [
       "<div>\n",
       "<style scoped>\n",
       "    .dataframe tbody tr th:only-of-type {\n",
       "        vertical-align: middle;\n",
       "    }\n",
       "\n",
       "    .dataframe tbody tr th {\n",
       "        vertical-align: top;\n",
       "    }\n",
       "\n",
       "    .dataframe thead th {\n",
       "        text-align: right;\n",
       "    }\n",
       "</style>\n",
       "<table border=\"1\" class=\"dataframe\">\n",
       "  <thead>\n",
       "    <tr style=\"text-align: right;\">\n",
       "      <th></th>\n",
       "      <th>Treatment Yes</th>\n",
       "      <th>Treatment No</th>\n",
       "    </tr>\n",
       "  </thead>\n",
       "  <tbody>\n",
       "    <tr>\n",
       "      <th>Fam Hist Yes</th>\n",
       "      <td>379.533811</td>\n",
       "      <td>387.466189</td>\n",
       "    </tr>\n",
       "    <tr>\n",
       "      <th>Fam Hist No</th>\n",
       "      <td>242.466189</td>\n",
       "      <td>247.533811</td>\n",
       "    </tr>\n",
       "  </tbody>\n",
       "</table>\n",
       "</div>"
      ],
      "text/plain": [
       "              Treatment Yes  Treatment No\n",
       "Fam Hist Yes     379.533811    387.466189\n",
       "Fam Hist No      242.466189    247.533811"
      ]
     },
     "execution_count": 18,
     "metadata": {},
     "output_type": "execute_result"
    }
   ],
   "source": [
    "# Generate the \"expected\" values to compare against our \"observed\" values\n",
    "\n",
    "expected =  np.outer(tab_famhist_treatment[\"row_totals\"][0:2],\n",
    "                     tab_famhist_treatment.loc[\"col_totals\"][0:2]) / 1257\n",
    "\n",
    "expected = pd.DataFrame(expected)\n",
    "\n",
    "expected.columns = [\"Treatment Yes\",\"Treatment No\"]\n",
    "expected.index = [\"Fam Hist Yes\",\"Fam Hist No\"]\n",
    "\n",
    "expected"
   ]
  },
  {
   "cell_type": "code",
   "execution_count": 20,
   "metadata": {
    "_uuid": "5d2c11333c1ec74bec3b4277f96dbe480aea708a"
   },
   "outputs": [
    {
     "name": "stdout",
     "output_type": "stream",
     "text": [
      "Critical value\n",
      "3.841458820694124\n",
      "P value\n",
      "0.0\n"
     ]
    }
   ],
   "source": [
    "crit = stats.chi2.ppf(q = 0.95, # Find the critical value for 95% confidence*\n",
    "                      df = 1)   # *\n",
    "\n",
    "print(\"Critical value\")\n",
    "print(crit)\n",
    "\n",
    "p_value = 1 - stats.chi2.cdf(x=chi_squared_stat,  # Find the p-value\n",
    "                             df=1)\n",
    "print(\"P value\")\n",
    "print(p_value)"
   ]
  },
  {
   "cell_type": "markdown",
   "metadata": {
    "_uuid": "5ec031d678e472dbbc8005ca6330c8a1e98b58ab"
   },
   "source": [
    "##### Observation: \n",
    "A P value of 0.0 does not seem right. I will go back to further investigate whether the chi-squared is appropriate and if I made mistakes in the code above."
   ]
  },
  {
   "cell_type": "code",
   "execution_count": 21,
   "metadata": {
    "_cell_guid": "d9902d25-7920-4a59-be11-b0d385a0d2a9",
    "_uuid": "2205033248e87218d73b306fb60b0c5343d1891c"
   },
   "outputs": [
    {
     "data": {
      "text/plain": [
       "0           Often\n",
       "1          Rarely\n",
       "2          Rarely\n",
       "3           Often\n",
       "4           Never\n",
       "          ...    \n",
       "1254          NaN\n",
       "1255        Often\n",
       "1256    Sometimes\n",
       "1257          NaN\n",
       "1258    Sometimes\n",
       "Name: work_interfere, Length: 1257, dtype: object"
      ]
     },
     "execution_count": 21,
     "metadata": {},
     "output_type": "execute_result"
    }
   ],
   "source": [
    "survey['work_interfere']"
   ]
  },
  {
   "cell_type": "code",
   "execution_count": 29,
   "metadata": {
    "_cell_guid": "1196d188-059d-48a1-8761-19e1fb9ff376",
    "_uuid": "567b56f56bf37ad1ea2654a83dd6ec5e884341a9"
   },
   "outputs": [
    {
     "name": "stdout",
     "output_type": "stream",
     "text": [
      "col_0  count\n",
      "ill         \n",
      "No       477\n",
      "Yes      780\n",
      "If we didn't miss anything, this will equal 1257: 1257\n"
     ]
    },
    {
     "data": {
      "text/plain": [
       "<AxesSubplot:xlabel='ill'>"
      ]
     },
     "execution_count": 29,
     "metadata": {},
     "output_type": "execute_result"
    },
    {
     "data": {
      "image/png": "[encoded data removed]",
      "text/plain": [
       "<Figure size 1440x504 with 1 Axes>"
      ]
     },
     "metadata": {},
     "output_type": "display_data"
    }
   ],
   "source": [
    "# Convert the work_interfere responses into a new variable, \n",
    "\n",
    "# Make a copy of the column to preserve the original data. Work with the new column going forward.\n",
    "survey['ill'] = survey['work_interfere']\n",
    "\n",
    "# Transform all NaN to \"No\" (which means, not currently experiencing a mental health condition)\n",
    "survey['ill'] = survey['ill'].replace(np.nan, 'No', regex=True)\n",
    "\n",
    "# Assign each type of response to one of two categories\n",
    "\n",
    "notill = [\"No\",\"Never\"]\n",
    "ill = [ \"Rarely\", \"Sometimes\", \"Often\"]\n",
    "\n",
    "survey['ill'] = survey['ill'].apply(lambda x:\"Yes\" if x in ill else x)\n",
    "survey['ill'] = survey['ill'].apply(lambda x:\"No\" if x in notill else x)\n",
    "\n",
    "# Make a crosstab to view the count for each of the new categories\n",
    "ill_tab = pd.crosstab(index=survey[\"ill\"], columns=\"count\")\n",
    "\n",
    "print(ill_tab)\n",
    "\n",
    "# Confirm that we didn't miss any entries\n",
    "print(\"If we didn't miss anything, this will equal 1257:\", len(survey['ill']))\n",
    "\n",
    "ill_tab.plot(kind=\"bar\", \n",
    "                 figsize=(20,7),\n",
    "                 stacked=True)"
   ]
  },
  {
   "cell_type": "markdown",
   "metadata": {
    "_cell_guid": "50aee321-ab87-4851-92c0-db8222ebd65f",
    "_uuid": "8717ccde510b04b9e51f305e8706ba3eed14b072"
   },
   "source": [
    "#### 6B: How do attitudes towards mental health vary by geographic location?\n",
    "\n"
   ]
  },
  {
   "cell_type": "code",
   "execution_count": 23,
   "metadata": {
    "_cell_guid": "9cc9a99c-76a4-417b-afa0-837f6ad6db5d",
    "_uuid": "198cd3b06fe4d41f9ee13452cbf1f9b1027c286f"
   },
   "outputs": [
    {
     "name": "stdout",
     "output_type": "stream",
     "text": [
      "col_0      count\n",
      "attitudes       \n",
      "Moderate     477\n",
      "Negative     290\n",
      "Positive     490\n",
      "If we didn't miss anything, this will equal 1257: 1257\n",
      "AxesSubplot(0.125,0.125;0.775x0.755)\n"
     ]
    },
    {
     "data": {
      "image/png": "[encoded data removed]",
      "text/plain": [
       "<Figure size 1440x504 with 1 Axes>"
      ]
     },
     "metadata": {},
     "output_type": "display_data"
    }
   ],
   "source": [
    "# Convert the mental_health_consequence responses into a new variable, \n",
    "\n",
    "# Make a copy of the column to preserve the original data. Work with the new column going forward.\n",
    "survey['attitudes'] = survey['mental_health_consequence']\n",
    "\n",
    "# Assign each type of response to one of two categories\n",
    "positive = [\"No\"]\n",
    "negative = [\"Yes\"]\n",
    "moderate = ['Maybe']\n",
    "\n",
    "survey['attitudes'] = survey['attitudes'].apply(lambda x:\"Positive\" if x in positive else x)\n",
    "survey['attitudes'] = survey['attitudes'].apply(lambda x:\"Negative\" if x in negative else x)\n",
    "survey['attitudes'] = survey['attitudes'].apply(lambda x:\"Moderate\" if x in moderate else x)\n",
    "\n",
    "\n",
    "# Make a crosstab to view the count for each of the new categories\n",
    "attitudes_tab = pd.crosstab(index=survey[\"attitudes\"], columns=\"count\")\n",
    "\n",
    "print(attitudes_tab)\n",
    "\n",
    "# Confirm that we didn't miss any entries\n",
    "print(\"If we didn't miss anything, this will equal 1257:\", len(survey['attitudes']))\n",
    "\n",
    "print(attitudes_tab.plot(kind=\"bar\", \n",
    "                 figsize=(20,7),\n",
    "                 stacked=True))\n",
    "\n",
    "\n"
   ]
  },
  {
   "cell_type": "code",
   "execution_count": 24,
   "metadata": {},
   "outputs": [
    {
     "data": {
      "text/plain": [
       "United States     750\n",
       "United Kingdom    185\n",
       "Canada             72\n",
       "India              10\n",
       "Name: country, dtype: int64"
      ]
     },
     "execution_count": 24,
     "metadata": {},
     "output_type": "execute_result"
    }
   ],
   "source": [
    "countries = ['United States','United Kingdom',\"Canada\",\"India\"]\n",
    "data = survey[survey['country'].isin(countries)]\n",
    "data['country'].value_counts()\n"
   ]
  },
  {
   "cell_type": "code",
   "execution_count": 25,
   "metadata": {},
   "outputs": [
    {
     "data": {
      "text/plain": [
       "TN    45\n",
       "TX    44\n",
       "Name: state, dtype: int64"
      ]
     },
     "execution_count": 25,
     "metadata": {},
     "output_type": "execute_result"
    }
   ],
   "source": [
    "state = ['TX','TN']\n",
    "data = survey[survey['state'].isin(state)]\n",
    "data['state'].value_counts()\n"
   ]
  },
  {
   "cell_type": "code",
   "execution_count": 26,
   "metadata": {},
   "outputs": [
    {
     "data": {
      "image/png": "[encoded data removed]",
      "text/plain": [
       "<Figure size 720x504 with 1 Axes>"
      ]
     },
     "metadata": {},
     "output_type": "display_data"
    }
   ],
   "source": [
    "# Display the relationship between \"ill\" and \"region\"\n",
    "\n",
    "plt.figure(figsize=(10,7))\n",
    "sns.countplot(x='state', hue=\"ill\", hue_order = [\"Yes\", \"No\"], data=data)\n",
    "plt.suptitle(\"Mental Health Conditions v. state\", fontsize=20)\n",
    "plt.title(\"Frequency of mental health conditions by region\", fontsize=16)\n",
    "plt.xlabel(\"\")\n",
    "plt.ylabel(\"\")\n",
    "plt.show()"
   ]
  },
  {
   "cell_type": "code",
   "execution_count": null,
   "metadata": {},
   "outputs": [],
   "source": []
  }
 ],
 "metadata": {
  "kernelspec": {
   "display_name": "Python 3",
   "language": "python",
   "name": "python3"
  },
  "language_info": {
   "codemirror_mode": {
    "name": "ipython",
    "version": 3
   },
   "file_extension": ".py",
   "mimetype": "text/x-python",
   "name": "python",
   "nbconvert_exporter": "python",
   "pygments_lexer": "ipython3",
   "version": "3.8.5"
  }
 },
 "nbformat": 4,
 "nbformat_minor": 1
}
